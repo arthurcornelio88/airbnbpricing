{
 "cells": [
  {
   "cell_type": "markdown",
   "metadata": {},
   "source": [
    "# 1. Installing requirements"
   ]
  },
  {
   "cell_type": "markdown",
   "metadata": {},
   "source": [
    "Just run the cell below to configure the environment and install packages for this work"
   ]
  },
  {
   "cell_type": "code",
   "execution_count": null,
   "metadata": {},
   "outputs": [],
   "source": [
    "# create environment and install requirements\n",
    "!python3 -m venv .venv\n",
    "!source .venv/bin/activate\n",
    "!pip install -r requirements.txt"
   ]
  },
  {
   "cell_type": "markdown",
   "metadata": {},
   "source": [
    "# 2. Framing the problem"
   ]
  },
  {
   "cell_type": "markdown",
   "metadata": {},
   "source": [
    "## 2.1 Goal\n",
    "\n",
    "We want to predict an Airbnb housing price, based in some aspects of a thousand of orders grouped in a huge dataset\n",
    "- Features like location, review score, how many bedrooms, etc.\n"
   ]
  },
  {
   "cell_type": "markdown",
   "metadata": {},
   "source": [
    "## 2.2 Algorithm\n",
    "\n",
    "- Learning \n",
    "  - **Supervised learning**\n",
    "    - We're predicting housing prices, a known target variable within our dataset.\n",
    "  - **Batch learning**\n",
    "    - We're training on the entire Kaggle dataset at once ! We have the dataset split into months, but since we aren't doing time-based forecasting, we'll analyze the entire dataset as a whole.\n",
    "  - **Model based**\n",
    "    - We'll create a predictive model to forecast housing prices \n",
    "- Model task : **Linear regression**\n",
    "  - This is a regression problem, as we aim to predict the numerical value of AirBnB housing prices in Brazilian Real."
   ]
  },
  {
   "cell_type": "markdown",
   "metadata": {},
   "source": [
    "## 2.3 Performance mesure for evaluation : **RSME or MAE**\n",
    "Choosing the right performance measure, either RMSE or MAE, **depends heavily on the characteristics of our dataset**, particularly the presence of outliers and the data's distribution.\n",
    "  - RMSE (Root Mean Squared Error) **is more sensitive to outliers** due to the squaring of errors. This makes it suitable for datasets with a balanced, bell-shaped distribution and few outliers.\n",
    "  - On the other hand, MAE (Mean Absolute Error) is more robust to outliers as it considers the absolute difference between predictions and actual values. MAE is generally preferred for those with a **significant presence of outliers**."
   ]
  },
  {
   "cell_type": "markdown",
   "metadata": {},
   "source": [
    "# 3. Loading the dataset\n",
    "\n",
    "⚠️ I received a DtypeWarning ! Some columns has mixed types. When we will analyse the dataset, we'll need to handle this."
   ]
  },
  {
   "cell_type": "code",
   "execution_count": 3,
   "metadata": {},
   "outputs": [
    {
     "name": "stderr",
     "output_type": "stream",
     "text": [
      "/tmp/ipykernel_6246/4181529510.py:4: DtypeWarning: Columns (1,17,19,20,28,33,34,54,62,63,66,68,69,88) have mixed types. Specify dtype option on import or set low_memory=False.\n",
      "  df_raw = pd.read_csv(\"data/total_data.csv\")\n"
     ]
    }
   ],
   "source": [
    "import pandas as pd\n",
    "import numpy as np\n",
    "\n",
    "df_raw = pd.read_csv(\"data/total_data.csv\")"
   ]
  },
  {
   "cell_type": "markdown",
   "metadata": {},
   "source": [
    "# 4. EDA analysis and to-do list"
   ]
  },
  {
   "cell_type": "markdown",
   "metadata": {},
   "source": [
    "## 4.1 **.head()** : first glance\n",
    "\n",
    "We can see, at this first glance, that this dataset has a bunch of textual information, but we're going to predict a numerical value. Let's keep analyzing !"
   ]
  },
  {
   "cell_type": "code",
   "execution_count": 4,
   "metadata": {},
   "outputs": [
    {
     "data": {
      "text/html": [
       "<div>\n",
       "<style scoped>\n",
       "    .dataframe tbody tr th:only-of-type {\n",
       "        vertical-align: middle;\n",
       "    }\n",
       "\n",
       "    .dataframe tbody tr th {\n",
       "        vertical-align: top;\n",
       "    }\n",
       "\n",
       "    .dataframe thead th {\n",
       "        text-align: right;\n",
       "    }\n",
       "</style>\n",
       "<table border=\"1\" class=\"dataframe\">\n",
       "  <thead>\n",
       "    <tr style=\"text-align: right;\">\n",
       "      <th></th>\n",
       "      <th>Unnamed: 0</th>\n",
       "      <th>id</th>\n",
       "      <th>listing_url</th>\n",
       "      <th>scrape_id</th>\n",
       "      <th>last_scraped</th>\n",
       "      <th>name</th>\n",
       "      <th>summary</th>\n",
       "      <th>space</th>\n",
       "      <th>description</th>\n",
       "      <th>experiences_offered</th>\n",
       "      <th>...</th>\n",
       "      <th>minimum_minimum_nights</th>\n",
       "      <th>maximum_minimum_nights</th>\n",
       "      <th>minimum_maximum_nights</th>\n",
       "      <th>maximum_maximum_nights</th>\n",
       "      <th>minimum_nights_avg_ntm</th>\n",
       "      <th>maximum_nights_avg_ntm</th>\n",
       "      <th>number_of_reviews_ltm</th>\n",
       "      <th>calculated_host_listings_count_entire_homes</th>\n",
       "      <th>calculated_host_listings_count_private_rooms</th>\n",
       "      <th>calculated_host_listings_count_shared_rooms</th>\n",
       "    </tr>\n",
       "  </thead>\n",
       "  <tbody>\n",
       "    <tr>\n",
       "      <th>0</th>\n",
       "      <td>0.0</td>\n",
       "      <td>17878</td>\n",
       "      <td>https://www.airbnb.com/rooms/17878</td>\n",
       "      <td>2.018082e+13</td>\n",
       "      <td>2018-08-16</td>\n",
       "      <td>Very Nice 2Br - Copacabana - WiFi</td>\n",
       "      <td>Please note that special rates apply for New Y...</td>\n",
       "      <td>- large balcony which looks out on pedestrian ...</td>\n",
       "      <td>Please note that special rates apply for New Y...</td>\n",
       "      <td>none</td>\n",
       "      <td>...</td>\n",
       "      <td>NaN</td>\n",
       "      <td>NaN</td>\n",
       "      <td>NaN</td>\n",
       "      <td>NaN</td>\n",
       "      <td>NaN</td>\n",
       "      <td>NaN</td>\n",
       "      <td>NaN</td>\n",
       "      <td>NaN</td>\n",
       "      <td>NaN</td>\n",
       "      <td>NaN</td>\n",
       "    </tr>\n",
       "    <tr>\n",
       "      <th>1</th>\n",
       "      <td>1.0</td>\n",
       "      <td>24480</td>\n",
       "      <td>https://www.airbnb.com/rooms/24480</td>\n",
       "      <td>2.018082e+13</td>\n",
       "      <td>2018-08-16</td>\n",
       "      <td>Nice and cozy near Ipanema Beach</td>\n",
       "      <td>My studio is located in the best  of Ipanema. ...</td>\n",
       "      <td>The studio is located at Vinicius de Moraes St...</td>\n",
       "      <td>My studio is located in the best  of Ipanema. ...</td>\n",
       "      <td>none</td>\n",
       "      <td>...</td>\n",
       "      <td>NaN</td>\n",
       "      <td>NaN</td>\n",
       "      <td>NaN</td>\n",
       "      <td>NaN</td>\n",
       "      <td>NaN</td>\n",
       "      <td>NaN</td>\n",
       "      <td>NaN</td>\n",
       "      <td>NaN</td>\n",
       "      <td>NaN</td>\n",
       "      <td>NaN</td>\n",
       "    </tr>\n",
       "  </tbody>\n",
       "</table>\n",
       "<p>2 rows × 108 columns</p>\n",
       "</div>"
      ],
      "text/plain": [
       "   Unnamed: 0     id                         listing_url     scrape_id  \\\n",
       "0         0.0  17878  https://www.airbnb.com/rooms/17878  2.018082e+13   \n",
       "1         1.0  24480  https://www.airbnb.com/rooms/24480  2.018082e+13   \n",
       "\n",
       "  last_scraped                               name  \\\n",
       "0   2018-08-16  Very Nice 2Br - Copacabana - WiFi   \n",
       "1   2018-08-16   Nice and cozy near Ipanema Beach   \n",
       "\n",
       "                                             summary  \\\n",
       "0  Please note that special rates apply for New Y...   \n",
       "1  My studio is located in the best  of Ipanema. ...   \n",
       "\n",
       "                                               space  \\\n",
       "0  - large balcony which looks out on pedestrian ...   \n",
       "1  The studio is located at Vinicius de Moraes St...   \n",
       "\n",
       "                                         description experiences_offered  ...  \\\n",
       "0  Please note that special rates apply for New Y...                none  ...   \n",
       "1  My studio is located in the best  of Ipanema. ...                none  ...   \n",
       "\n",
       "  minimum_minimum_nights maximum_minimum_nights minimum_maximum_nights  \\\n",
       "0                    NaN                    NaN                    NaN   \n",
       "1                    NaN                    NaN                    NaN   \n",
       "\n",
       "  maximum_maximum_nights minimum_nights_avg_ntm maximum_nights_avg_ntm  \\\n",
       "0                    NaN                    NaN                    NaN   \n",
       "1                    NaN                    NaN                    NaN   \n",
       "\n",
       "   number_of_reviews_ltm calculated_host_listings_count_entire_homes  \\\n",
       "0                    NaN                                         NaN   \n",
       "1                    NaN                                         NaN   \n",
       "\n",
       "  calculated_host_listings_count_private_rooms  \\\n",
       "0                                          NaN   \n",
       "1                                          NaN   \n",
       "\n",
       "  calculated_host_listings_count_shared_rooms  \n",
       "0                                         NaN  \n",
       "1                                         NaN  \n",
       "\n",
       "[2 rows x 108 columns]"
      ]
     },
     "execution_count": 4,
     "metadata": {},
     "output_type": "execute_result"
    }
   ],
   "source": [
    "df_raw.head(2)"
   ]
  },
  {
   "cell_type": "markdown",
   "metadata": {},
   "source": [
    "## 4.2 **.info()** : value types\n",
    "\n",
    "We got 72 object-type columns ! More than the half of all the dataset columns. We'll need effectively take a deep look inside, to gather some good information from this columns. The goal is to encode some of them, after filtering the good ones, to numerical. For this, we have two tasks in those object-type columns: 1) identify interesting data and 2) verify if they're able to be encoded.\n",
    "\n",
    "\n",
    "**\"What is encoding ? Why encode ?\"**\n",
    "- As we're doing a linear regression task, our model need to be fed with numerical data. Texts are in string format, then, we need to find a way to transform them ! In NLP cases, we tokenize the text, but here, we're just searching for **categorical features**. After, we need to identify if they're **ordinal** or **numerical** ones. "
   ]
  },
  {
   "cell_type": "code",
   "execution_count": 6,
   "metadata": {},
   "outputs": [
    {
     "name": "stdout",
     "output_type": "stream",
     "text": [
      "<class 'pandas.core.frame.DataFrame'>\n",
      "RangeIndex: 784122 entries, 0 to 784121\n",
      "Columns: 108 entries, Unnamed: 0 to calculated_host_listings_count_shared_rooms\n",
      "dtypes: float64(36), object(72)\n",
      "memory usage: 646.1+ MB\n"
     ]
    }
   ],
   "source": [
    "df_raw.info()"
   ]
  },
  {
   "cell_type": "markdown",
   "metadata": {},
   "source": [
    "## 4.? **.nunique()** and **value_counts()**\n",
    "\n",
    "Let's get deep in those object-like data using two Pandas functions : **.nunique()** and **.value_counts()**.\n",
    "\n",
    "- **.nunique** counts unique values in a column, while **.value_counts** counts the occurrences of each unique value. \n",
    "- Both are going to be important to help us choosing the best features to keep among the 72 columns."
   ]
  },
  {
   "cell_type": "code",
   "execution_count": null,
   "metadata": {},
   "outputs": [],
   "source": [
    "# Calculate nunique for 'object' columns and convert to DataFrame\n",
    "nunique_df = pd.DataFrame(df_raw.select_dtypes(include='object').astype(str).nunique()).reset_index()\n",
    "\n",
    "# Rename columns for clarity\n",
    "nunique_df.columns = ['Column Name', 'Unique Value Count']\n",
    "\n",
    "# Filter rows where 'Unique Value Count' is less than 10\n",
    "filtered_df = nunique_df[nunique_df[\"Unique Value Count\"] < 10]\n",
    "\n",
    "# Display the filtered DataFrame\n",
    "print(filtered_df)"
   ]
  },
  {
   "cell_type": "markdown",
   "metadata": {},
   "source": [
    "# 5. ETC"
   ]
  }
 ],
 "metadata": {
  "kernelspec": {
   "display_name": "Python 3",
   "language": "python",
   "name": "python3"
  },
  "language_info": {
   "codemirror_mode": {
    "name": "ipython",
    "version": 3
   },
   "file_extension": ".py",
   "mimetype": "text/x-python",
   "name": "python",
   "nbconvert_exporter": "python",
   "pygments_lexer": "ipython3",
   "version": "3.10.6"
  }
 },
 "nbformat": 4,
 "nbformat_minor": 2
}
